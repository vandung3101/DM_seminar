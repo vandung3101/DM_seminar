{
 "cells": [
  {
   "cell_type": "code",
   "execution_count": 47,
   "metadata": {
    "colab": {
     "base_uri": "https://localhost:8080/",
     "height": 334
    },
    "executionInfo": {
     "elapsed": 4516,
     "status": "error",
     "timestamp": 1617024712618,
     "user": {
      "displayName": "Nguyễn Văn Dũng",
      "photoUrl": "https://lh3.googleusercontent.com/a-/AOh14Gh56l_ICq6E7425A_4__9Swv7UvqdPIM8Bii0dcDA=s64",
      "userId": "03456457200469781442"
     },
     "user_tz": -420
    },
    "id": "QbNIAOCVLk6T",
    "outputId": "202f9440-cb03-466a-b947-e1578add9e07"
   },
   "outputs": [],
   "source": [
    "from sklearn.datasets import load_iris\n",
    "from sklearn.ensemble import RandomForestClassifier\n",
    "from sklearn.tree import DecisionTreeClassifier \n",
    "from sklearn.model_selection import train_test_split\n",
    "from sklearn.tree import plot_tree\n",
    "import pandas as pd"
   ]
  },
  {
   "cell_type": "code",
   "execution_count": 48,
   "metadata": {
    "id": "LzCtg08BLk6Z"
   },
   "outputs": [],
   "source": [
    "digits = load_iris()"
   ]
  },
  {
   "cell_type": "code",
   "execution_count": 49,
   "metadata": {
    "id": "MBnaN1SXLk6Z",
    "outputId": "7a2bea97-31a6-4e27-a19a-c9ebfa7dff17"
   },
   "outputs": [
    {
     "data": {
      "text/plain": [
       "DecisionTreeClassifier()"
      ]
     },
     "execution_count": 49,
     "metadata": {},
     "output_type": "execute_result"
    }
   ],
   "source": [
    "forest = RandomForestClassifier(criterion=\"gini\", \n",
    "                                max_depth=3, \n",
    "                                bootstrap=True, \n",
    "                                max_samples=0.7, \n",
    "                                oob_score=True)\n",
    "tree = DecisionTreeClassifier()\n",
    "\n",
    "X_train, X_test, y_train, y_test = train_test_split(digits.data, digits.target, test_size=0.3)\n",
    "\n",
    "forest.fit(X_train, y_train)\n",
    "tree.fit(X_train, y_train)"
   ]
  },
  {
   "cell_type": "code",
   "execution_count": 50,
   "metadata": {},
   "outputs": [
    {
     "name": "stdout",
     "output_type": "stream",
     "text": [
      "0.9555555555555556\n",
      "0.9333333333333333\n"
     ]
    }
   ],
   "source": [
    "print(forest.score(X_test, y_test))\n",
    "print(tree.score(X_test, y_test))"
   ]
  },
  {
   "cell_type": "code",
   "execution_count": 51,
   "metadata": {},
   "outputs": [
    {
     "data": {
      "text/plain": [
       "array([0.10046543, 0.0275036 , 0.40688808, 0.46514289])"
      ]
     },
     "execution_count": 51,
     "metadata": {},
     "output_type": "execute_result"
    }
   ],
   "source": [
    "forest.estimators_\n",
    "forest.oob_score_\n",
    "forest.feature_importances_"
   ]
  }
 ],
 "metadata": {
  "colab": {
   "name": "Random Forest.ipynb",
   "provenance": []
  },
  "kernelspec": {
   "display_name": "Python 3",
   "language": "python",
   "name": "python3"
  },
  "language_info": {
   "codemirror_mode": {
    "name": "ipython",
    "version": 3
   },
   "file_extension": ".py",
   "mimetype": "text/x-python",
   "name": "python",
   "nbconvert_exporter": "python",
   "pygments_lexer": "ipython3",
   "version": "3.8.5"
  }
 },
 "nbformat": 4,
 "nbformat_minor": 1
}
